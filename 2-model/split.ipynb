{
 "cells": [
  {
   "cell_type": "code",
   "execution_count": 1,
   "id": "bd15d690",
   "metadata": {},
   "outputs": [],
   "source": [
    "import os\n",
    "import pandas as pd\n",
    "from sklearn.model_selection import train_test_split\n",
    "from tqdm import tqdm"
   ]
  },
  {
   "cell_type": "code",
   "execution_count": 2,
   "id": "4c179269",
   "metadata": {},
   "outputs": [],
   "source": [
    "def split_img_label(data_train, data_test, folder_train, folder_test):\n",
    "    \n",
    "    os.mkdir(folder_train)\n",
    "    os.mkdir(folder_test)\n",
    "    \n",
    "    train_ind=list(data_train.index)\n",
    "    test_ind=list(data_test.index)\n",
    "    \n",
    "    # Train folder\n",
    "    for i in tqdm(range(len(train_ind))):\n",
    "        os.system('cp \"' + data_train[train_ind[i]] + '\" \"./' + folder_train + '/' + data_train[train_ind[i]].split('/')[2] + '\"')\n",
    "        os.system('cp \"' + data_train[train_ind[i]].split('.jpg')[0] + '.txt' + '\" \"./' + folder_train + '/' + data_train[train_ind[i]].split('/')[2].split('.jpg')[0] + '.txt' + '\"')\n",
    "        os.system('cp \"' + data_train[train_ind[i]].split('.jpg')[0] + '.xml' + '\" \"./' + folder_train + '/' + data_train[train_ind[i]].split('/')[2].split('.jpg')[0] + '.xml' + '\"')\n",
    "    \n",
    "    # Test folder\n",
    "    for j in tqdm(range(len(test_ind))):\n",
    "        \n",
    "        os.system('cp \"' + data_test[test_ind[j]] + '\" \"./' + folder_test + '/'  + data_test[test_ind[j]].split('/')[2] + '\"')\n",
    "        os.system('cp \"' + data_test[test_ind[j]].split('.jpg')[0] + '.txt' + '\" \"./' + folder_test + '/' + data_test[test_ind[j]].split('/')[2].split('.jpg')[0] + '.txt' + '\"')\n",
    "        os.system('cp \"' + data_test[test_ind[j]].split('.jpg')[0] + '.xml' + '\" \"./' + folder_test + '/' + data_test[test_ind[j]].split('/')[2].split('.jpg')[0] + '.xml' + '\"')"
   ]
  },
  {
   "cell_type": "code",
   "execution_count": 3,
   "id": "a767d5f7",
   "metadata": {},
   "outputs": [
    {
     "name": "stderr",
     "output_type": "stream",
     "text": [
      "100%|██████████| 692/692 [00:05<00:00, 118.13it/s]\n",
      "100%|██████████| 173/173 [00:01<00:00, 118.72it/s]\n"
     ]
    }
   ],
   "source": [
    "PATH = './mixed/'\n",
    "list_jpg=[img for img in os.listdir(PATH) if img.endswith('.jpg')==True]\n",
    "list_txt=[img for img in os.listdir(PATH) if img.endswith('.txt')==True]\n",
    "list_xml=[img for img in os.listdir(PATH) if img.endswith('.xml')==True]\n",
    "\n",
    "path_img=[]\n",
    "\n",
    "for i in range (len(list_jpg)):\n",
    "    path_img.append(PATH+list_jpg[i])\n",
    "    \n",
    "df=pd.DataFrame(path_img)\n",
    "\n",
    "# split \n",
    "data_train, data_test, labels_train, labels_test = train_test_split(df[0], df.index, test_size=0.20, random_state=42)\n",
    "\n",
    "# Function split\n",
    "split_img_label(data_train, data_test, \"train\", \"test\")"
   ]
  }
 ],
 "metadata": {
  "kernelspec": {
   "display_name": "Python 3",
   "language": "python",
   "name": "python3"
  },
  "language_info": {
   "codemirror_mode": {
    "name": "ipython",
    "version": 3
   },
   "file_extension": ".py",
   "mimetype": "text/x-python",
   "name": "python",
   "nbconvert_exporter": "python",
   "pygments_lexer": "ipython3",
   "version": "3.8.10"
  }
 },
 "nbformat": 4,
 "nbformat_minor": 5
}
